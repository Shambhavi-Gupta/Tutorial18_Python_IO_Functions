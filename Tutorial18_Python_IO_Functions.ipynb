{
  "nbformat": 4,
  "nbformat_minor": 0,
  "metadata": {
    "colab": {
      "name": "Tutorial18_Python_IO_Functions.ipynb",
      "provenance": [],
      "authorship_tag": "ABX9TyNEjJdBHN6XOOo84eWTV76n",
      "include_colab_link": true
    },
    "kernelspec": {
      "name": "python3",
      "display_name": "Python 3"
    }
  },
  "cells": [
    {
      "cell_type": "markdown",
      "metadata": {
        "id": "view-in-github",
        "colab_type": "text"
      },
      "source": [
        "<a href=\"https://colab.research.google.com/github/Shambhavi-Gupta/Tutorial18_Python_IO_Functions/blob/main/Tutorial18_Python_IO_Functions.ipynb\" target=\"_parent\"><img src=\"https://colab.research.google.com/assets/colab-badge.svg\" alt=\"Open In Colab\"/></a>"
      ]
    },
    {
      "cell_type": "code",
      "metadata": {
        "id": "biOS2efYBmwF"
      },
      "source": [
        "# FILE IO BASICS\r\n",
        "\"\"\"\r\n",
        "\"r\" - open file for reading - default mode\r\n",
        "\"w\" - open file for writing\r\n",
        "\"x\" - creates file if not exists\r\n",
        "\"a\" - add more content to a file\r\n",
        "\"t\" - text mode          - default mode\r\n",
        "\"b\" - binary mode\r\n",
        "\"+\" - read and write\r\n",
        "\r\n",
        "\"\"\""
      ],
      "execution_count": null,
      "outputs": []
    }
  ]
}